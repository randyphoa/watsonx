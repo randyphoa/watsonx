{
 "cells": [
  {
   "cell_type": "markdown",
   "metadata": {},
   "source": [
    "# Introduction\n",
    "\n",
    "Retrieval Augmented Generation (RAG) is a pattern that leverages pretrained Large Language Models (LLM) and your own data to generate responses.\n"
   ]
  },
  {
   "cell_type": "markdown",
   "metadata": {},
   "source": [
    "# Imports"
   ]
  },
  {
   "cell_type": "code",
   "execution_count": 1,
   "metadata": {},
   "outputs": [],
   "source": [
    "# install required libraries\n",
    "\n",
    "! pip install --quiet faiss-cpu ipywidgets langchain sentence_transformers pypdf"
   ]
  },
  {
   "cell_type": "code",
   "execution_count": 2,
   "metadata": {},
   "outputs": [],
   "source": [
    "from typing import Any, Dict, Iterable, List, Optional\n",
    "\n",
    "import langchain\n",
    "import requests\n",
    "from langchain.document_loaders import PyPDFLoader\n",
    "from langchain.text_splitter import RecursiveCharacterTextSplitter\n",
    "from langchain.vectorstores import FAISS\n",
    "from sentence_transformers import SentenceTransformer"
   ]
  },
  {
   "cell_type": "code",
   "execution_count": 3,
   "metadata": {},
   "outputs": [],
   "source": [
    "API_KEY = \"xxx\"\n",
    "PROJECT_ID = \"72890882-3979-4af3-9f58-1dc597899546\""
   ]
  },
  {
   "cell_type": "markdown",
   "metadata": {},
   "source": [
    "# RAG Steps"
   ]
  },
  {
   "cell_type": "code",
   "execution_count": 7,
   "metadata": {},
   "outputs": [],
   "source": [
    "! wget -qq -O ED-e-KYC-2023.pdf https://raw.githubusercontent.com/randyphoa/watsonx/main/data/ED-e-KYC-2023.pdf\n",
    "! wget -qq -O PD-RMiT-June2023.pdf https://raw.githubusercontent.com/randyphoa/watsonx/main/data/PD-RMiT-June2023.pdf\n",
    "! wget -qq -O Happy-Hunt-T-Cs-Final-1.pdf https://raw.githubusercontent.com/randyphoa/watsonx/main/data/Happy-Hunt-T-Cs-Final-1.pdf"
   ]
  },
  {
   "cell_type": "markdown",
   "metadata": {},
   "source": [
    "## 1. Chunking"
   ]
  },
  {
   "cell_type": "markdown",
   "metadata": {},
   "source": [
    "Documents are split into chunks to overcome tokens limitation."
   ]
  },
  {
   "cell_type": "code",
   "execution_count": 8,
   "metadata": {},
   "outputs": [
    {
     "data": {
      "text/plain": [
       "[Document(page_content='UEM  Sunrise  ‘Happy  Hunt’ Campaign  \\n \\n1. Introduction  \\n1.1. These terms and conditions (“ Terms and Conditions ”) shall govern the UEM \\nSunrise ‘Happy Hunt’ Campaign (“Campaign ”) organised by UEM Sunrise Berhad \\n(“Organiser ”). \\n \\n1.2. The Organiser reserves the right at any time to  change, amend or delete the Terms \\nand Conditions and other rules and regulations including changing of the mechanism \\nfor the Campaign at its sole discretion.  \\n \\n1.3. The Organiser may terminate  or suspend the Campaign at any  time at its absolute \\ndiscretio n, in which case,  the Organiser may elect not to award any giveaway(s). Such \\ntermination or suspension will not give rise to any claim by the participants. If the \\nCampaign is resumed by the Organiser, the participants shall abide by the Organiser’s \\ndecisio n regarding the resumption of the Campaign and disposition of the giveaways. \\nThe Campaign will be held during the Campaign Period as defined below.', metadata={'source': 'Happy-Hunt-T-Cs-Final-1.pdf', 'page': 0}),\n",
       " Document(page_content='1.4. For the avoidance  of doubt,  in the event of the termination, suspension  or \\ncancellation  of the Campaign,  the participants  or the  winners  shall not be entitled to \\nclaim compensation from the Organiser for any losses or damages suffered or incurred \\nby the participants or the winners as a direct or indirect result of the act of termination, \\nsuspension or cancellation.  \\n \\n1.5. The Campaign consists of:  \\na. Happy Hunt Grand Lucky Draw; and  \\nb. Happy Hunt Monthly Giveaway.  \\n \\n \\n2. Campaign Period  \\n2.1. The Campaign will  be held from 1 June  2023  to 31 December 2023.   \\n \\n2.2. The Organiser reserves the right to vary, postpone or re-schedule the dates of the \\nCampaign or extend the Campaign Period at its sole discretion.  \\n \\n3. Eligibility  \\n3.1 The Campaign  is open  to: \\na. New registrants of UEM Sunrise’s properties;  \\nb. New purchasers of UEM Sunrise’s properties;  \\nc. Aged 18 and  above; and  \\nd. Followe rs of UEM Sunrise official Facebook and Instagram.', metadata={'source': 'Happy-Hunt-T-Cs-Final-1.pdf', 'page': 0}),\n",
       " Document(page_content='3.2 The Organiser reserves the right to disqualify participants and/or revoke the \\ngiveaways (at any stage of the Campaign) if in the Organiser’s sole determination, the \\nentry does not meet the Campaign Mechan ics (as defined below).  \\n \\n3.3 Participants’ Facebook and/or Instagram profile must be set to public mode to be \\neligible for this Campaign.', metadata={'source': 'Happy-Hunt-T-Cs-Final-1.pdf', 'page': 0}),\n",
       " Document(page_content='4. Happy Hunt Campaign  Mechanics  \\n4.1 Happy Hunt Grand Lucky Draw mechanics:  \\na. The Campaign  period  is from 1 June 2023 to 31 December 2023 .  \\nb. This Campaign is applicable  to the participating  properties  only;  in Central  \\nRegion  which are The MINH, Allevia Residences, KAIA Heights,  Serene \\nHeights, The Connaught One, and Residensi Zig at Kiara Bay; in Southern \\nRegion which are Senadi  Hills Phase 2A,  Aspira Lakehomes Phase 4, Aspira \\nGardens Phase 2, and Aspira Square . This Campaign  is applicable  for direct  \\nsales  and sales  through agents .  \\nc. Participants must reserve and execute the Sales and Purchase Agreement \\n(“SPA”) within 30 days from reservation and within the Campaign period to \\nstand a chance of enjoying these benefits under the Grand Lucky Draw \\nGiveaways (“GLDG”): - \\ni. Electrical appliances  giveaway  worth up  to RM30,000.00; and  \\nii. Cash Rewards  worth  up to  RM320,000.00.  \\n \\nNo. Grand Lucky Draw Giveaways (“GLDG”)  No. of GLDG', metadata={'source': 'Happy-Hunt-T-Cs-Final-1.pdf', 'page': 1}),\n",
       " Document(page_content='1. Grand Cash Reward  1 \\n2. Runner Up Cash Rewards  2 \\n3. Consolation Cash Rewards  7 \\n4 Electrical Appliances  10 \\n Total  20 \\n \\nd. All the Cash Rewards will be paid after delivery of vacant possession of the \\npurchased property to the   winners.  \\ni. Winners will be notified by the Organise r or its appointed vendor about the \\ncollection of electrical appliances.  \\nii. Winners  will be contacted  to provide  their full name,  I/C number,  mobile  \\nnumber,  email  address  & mailing  address  (“Personal  Details”)  for GLDG’s \\nfulfilment  purposes  by the Organiser or its appointed vendor.  \\ne. Winner Selection:  A Grand Lucky Draw to be held after the Campaign period \\nwhereby twenty (20) winners will be drawn at random by the Organiser or its \\nappointed vendor. Participants will be entitled to one (1) Happy Hunt Grand \\nLucky Draw entry for every purchase of one (1) p roperty of participating projects \\nvalued at RM500,000.00 and below.', metadata={'source': 'Happy-Hunt-T-Cs-Final-1.pdf', 'page': 1}),\n",
       " Document(page_content='f. Participants will be entitled to two (2) Happy Hunt Grand Lucky Draw entries for \\nevery purchase of one (1) property of participating projects valued at \\nRM501,000.00 and above.  \\ng. If the Parti cipants stated in (f) and (g) is a Tresorian member, the Tresorian \\nmember will be entitled to one (1) additional entry.  \\nh. Benefits  stated  in 4.1(d)  will be rewarded  to the participant(s)  via the Happy \\nHunt Grand Lucky  Draw  and any  decision  made by the Organiser  shall be final.', metadata={'source': 'Happy-Hunt-T-Cs-Final-1.pdf', 'page': 1}),\n",
       " Document(page_content='4.2 Happy Hunt Monthly Giveaway mechanics:  \\na. The Campaign  period  is from 1 June 2023 to 31 December 2023 . \\nb. Participants must have registered the following to qualify as one (1) \\n“Registration”  \\ni. Name  \\nii. Contact Number  \\niii. Email Address  \\nc. Participants must physically visit the monthly highlighted locations i.e., UEM \\nSunrise Property Galleries, Roadshows, or Showcase etc.  \\nd. Participants will be entitled to one (1) Monthly Lucky Draw entry for one (1) \\nRegistration.  \\ne. Winner  selection:  \\ni. Participants  who fulfil the above  criteria  will be eligible  to win  a gadget worth \\nup to RM200.00 or shopping vouchers worth up to RM50.00.  \\nii. A total of ten ( 10) winners  will be drawn at random  per month during  the \\nCampaign  period  and any decision  made  by the Organiser shall be final. \\niii. Winners  will be contacted  to provide  their full name,  I/C number,  mobile  \\nnumber,  email  address  & mailing  address  (“Personal  Details”)  for Campaign', metadata={'source': 'Happy-Hunt-T-Cs-Final-1.pdf', 'page': 2}),\n",
       " Document(page_content='fulfilment  purposes  by the Organiser or its appointed vendor.  \\niv. Shopping  vouchers  cannot  be exchanged  for cash and  are subjected  to the \\nparticipating vendors’  terms &  conditions  of use. \\n \\n4.3 The Organiser’s decision on all matters relating to this Campaign  shall be final,  \\nconclusive, and binding. All appeals shall not be entertained.  \\n \\n4.4 The Organiser shall be entitled to reject or disqualify any user or transaction that \\nattempts to undermine the operation of the Campaign by abusing the mechanism, fraud, \\ncheating, or deception  at its own discretion.  \\n \\n4.5 Each giveaway is unique, available for one -time redemption only.  \\n \\n4.6 The Organiser  shall not be held responsible  for any losses  (including  loss of \\nopportunity  and any other  losses  arising  therefrom) and damages suffered in the event \\nof cancellation of the Campaign.  \\n \\n4.7 The giveaways in the form of electrical appliances, gadgets and shopping vouchers', metadata={'source': 'Happy-Hunt-T-Cs-Final-1.pdf', 'page': 2}),\n",
       " Document(page_content='are not transferable, exchangeable, and not redeemable by cash or other items.  \\n \\n4.8 The Grand Lucky Draw cash rewards are redeemable after delivery of vacant \\npossession of property purchased by the winners.  \\n \\n4.9 The Organiser reserves the right to forfeit the Happy Hunt Grand Lucky Draw \\ngiveaway in the event of death of winner(s) prior to the redemption of the same.  \\n \\n4.10 The winner i s responsible for all taxes payable for the GLDG.  \\n \\n4.11 The Organiser shall not be held responsible or liable for any late, \\nmisdirected, lost or unsuccessful efforts to notify the winners. Winners are advised to', metadata={'source': 'Happy-Hunt-T-Cs-Final-1.pdf', 'page': 2}),\n",
       " Document(page_content='check the winner’s announcement which will be pos ted on the Organiser’s social media  \\naccounts.  \\n \\n4.12 In the event of any unclaimed GLDG within two (2) months from \\nannouncement of winners, the Organiser may, at its sole discretion forfeit the GLDG \\nredemption.  \\n \\n4.13 Any giveaways will only be delivered once by the ve ndor appointed by the \\nOrganiser. The Organiser will not reimburse the participants for any failure to accept or \\nreceive the delivery of the giveaways. The Organiser shall not entertain subsequent \\nrequests to collect the giveaways.  \\n \\n5. Cost  \\n5.1 All costs incurred by the participants in relation to and/or with respect to the \\nCampaign including without limitation to postal charges or Internet Service Provider \\n(ISP) charges (if applicable), all transport costs, communication charges, \\naccommodati on, meal costs and other related costs incurred by the participants as a \\nresult of and/or according to his/her participation in the Campaign shall be solely borne', metadata={'source': 'Happy-Hunt-T-Cs-Final-1.pdf', 'page': 3}),\n",
       " Document(page_content='by the participants (if any). The Organiser shall not be under any obligation to reimburse \\nthe participants for any of such costs and expenses incurred.  \\n \\n6. Governing  Law \\n6.1 The Terms  and Conditions  of the Campaign  shall be construed,  governed,  and \\ninterpreted  in accordance  with the laws of Malaysia.  \\n \\n7. Usage  Rights  \\n7.1 By participating  in this Campaign,  you agree  that any  winning  or short -listed/finalist  \\nphotos/images/videos you  submit  may be used by the Organiser solely for its marketing \\nand promotional purposes and activities, which include; promoting this Campaign \\nand/or other campaigns to be organised by the Organiser and displaying the Entries on \\nthe Organiser’s social media platforms or other media  forms as the Organiser deems \\nfit for its advertising and marketing activities, editing, cropping and re -sizing the \\nphoto/image/vi deo. You hereby  grant  the Organiser a  non-exclusive,  perpetual and', metadata={'source': 'Happy-Hunt-T-Cs-Final-1.pdf', 'page': 3}),\n",
       " Document(page_content='irrevocable  license  in each  entry  for the uses  described above.  \\n \\n7.2 You acknowledge  your responsibility  for protecting your  entry  against  image \\nmisuse  by third parties,  by, not limited  to the insertion of a watermark and the \\nOrganiser, its employees, agencies, representatives, and sponsors shall assume no \\nresponsibility and are not liable for any photos/images/videos misuse.  \\n \\n \\n7.3 By participating  in the Campaign,  accepting  or collecting  any giveaways,  the \\nparticipant(s)/winner(s) agree(s)  to indemnify  and hold harmless  the Organiser, all its \\nbusiness partners, its subsidiaries, affiliated companies and/or agencies, joint venture \\ncompanies, together with their respective directo rs, employees, representatives , \\nretailers, distributors, dealers as well as its advertising, creative, media, digital, design \\nand other creative agencies of the Organiser and any other participating sponsors', metadata={'source': 'Happy-Hunt-T-Cs-Final-1.pdf', 'page': 3}),\n",
       " Document(page_content='related to this Campaign, from any claim(s), prosecution ; costs,  damages, fine, \\npenalty,  loss or liability  whether  known or  unknown  at the present time, of any nature', metadata={'source': 'Happy-Hunt-T-Cs-Final-1.pdf', 'page': 3}),\n",
       " Document(page_content='whatsoever, arising out of or relating to:  \\na. The Campaign ; \\nb. Personal  injury and/or property damage,  theft or loss suffered  by the \\nparticipant(s)/winner(s) as  a result  of their participation  in the Campaign and in \\nthe use and/or enjoyment and/or acceptance of the giveaways won by the \\nwinner(s) ; or \\nc. The use of winner’s  name(s),  likeness,  biography,  voice(s), photos/images/videos \\nor videotape  recordings  of the winner  by the Organiser; or (d)otherwise  in \\nconnection  with or related  to the Campaign  referred  to herein  pursuant  to the \\npermission  hereby  granted.  \\n \\n \\n7.4 All rights  and privileges  herein  granted  to the Organiser  are irrevocable  and not \\nsubjected  to rescission,  restraint,  or injunction under any and all  circumstances. Under \\nno circumstances shall the participant(s) have the right to seek for injunctive relief or to \\nrestrain or otherwise interfere with the organisation of  the Campaign, the production,', metadata={'source': 'Happy-Hunt-T-Cs-Final-1.pdf', 'page': 4}),\n",
       " Document(page_content='distribution, exhibition and/or exploitation of the Ca mpaign and/or any product based on \\nand/or derived from the Campaign.  \\n \\n7.5 All personal data collected will only be used for  the purposes of managing and \\noperating the Campaign and not for any other purposes  and the Organiser  shall manage  \\nthe personal  data acco rding  to the Personal  Data  Protection  Act 2010  and the prevailing \\nrules and regulations on data privacy in Malaysia from time to time. By participating in \\nthis Campaign, Participants hereby have read and agree to the terms of the Organiser’s \\nprivacy policy in https://uemsunrise.com/storage/files/PrivacyPolicy.pdf  \\n \\n7.6 The Organiser  reserves  the right at its absolute  discretion  to vary,  delete  or add to \\nany of these  terms  and conditions  without any prior notice and all participants shall be \\nbound by such changes.  \\n \\n7.7 The terms and conditions in this Campaign will prevail over any other inconsistent', metadata={'source': 'Happy-Hunt-T-Cs-Final-1.pdf', 'page': 4}),\n",
       " Document(page_content='terms, conditions, provisions or representations contained in any other promotional \\nmaterials advertised b y the Organiser.  \\n \\n7.8 Disclosure:  The Campaign  is in no way sponsored,  endorsed, or  administered by,  \\nor associated  with Facebook/Instagram. All information provided is solely provided to \\nthe Organiser and not to Facebook/Instagram . \\n \\n8. Miscellaneous  \\n8.1 The participants shall not be  entitled to assign any  of the rights and/or obligations  \\nlisted herein.  The Organiser shall  be entitled  to assign  the whole  or any part of its rights  \\nhereunder  to any third party  as may be determined  by the  Organiser.  \\n \\n8.2 The invalidity,  illegality,  or unenforceability  of any part of the Terms  and Conditions  \\nshall not affect  or impair  the continuation in force of the remainder Terms and Conditions \\nof the Campaign.  \\n \\n8.3 By participating in this Campaign, the participant agrees not to commence any claim', metadata={'source': 'Happy-Hunt-T-Cs-Final-1.pdf', 'page': 4}),\n",
       " Document(page_content='against Instagram, Facebook, UEM Sunrise, and its appointed agents (if any).', metadata={'source': 'Happy-Hunt-T-Cs-Final-1.pdf', 'page': 4}),\n",
       " Document(page_content='**** This remainder of this page  is intentionally  left blank****', metadata={'source': 'Happy-Hunt-T-Cs-Final-1.pdf', 'page': 5})]"
      ]
     },
     "execution_count": 8,
     "metadata": {},
     "output_type": "execute_result"
    }
   ],
   "source": [
    "loader = PyPDFLoader(\"Happy-Hunt-T-Cs-Final-1.pdf\")\n",
    "text_splitter = RecursiveCharacterTextSplitter(chunk_size=1000, chunk_overlap=10)\n",
    "texts = text_splitter.split_documents(loader.load())\n",
    "\n",
    "texts"
   ]
  },
  {
   "cell_type": "markdown",
   "metadata": {},
   "source": [
    "## 2. Tokenization and embeddings"
   ]
  },
  {
   "cell_type": "code",
   "execution_count": 9,
   "metadata": {},
   "outputs": [
    {
     "data": {
      "application/vnd.jupyter.widget-view+json": {
       "model_id": "ee8f554217d24362a06833f0f5506183",
       "version_major": 2,
       "version_minor": 0
      },
      "text/plain": [
       "Downloading (…)e9125/.gitattributes:   0%|          | 0.00/1.18k [00:00<?, ?B/s]"
      ]
     },
     "metadata": {},
     "output_type": "display_data"
    },
    {
     "data": {
      "application/vnd.jupyter.widget-view+json": {
       "model_id": "e556e2aa70af472a9d7474671bb77b9d",
       "version_major": 2,
       "version_minor": 0
      },
      "text/plain": [
       "Downloading (…)_Pooling/config.json:   0%|          | 0.00/190 [00:00<?, ?B/s]"
      ]
     },
     "metadata": {},
     "output_type": "display_data"
    },
    {
     "data": {
      "application/vnd.jupyter.widget-view+json": {
       "model_id": "1c34f902c27049aaa27cec749869b9cc",
       "version_major": 2,
       "version_minor": 0
      },
      "text/plain": [
       "Downloading (…)7e55de9125/README.md:   0%|          | 0.00/10.6k [00:00<?, ?B/s]"
      ]
     },
     "metadata": {},
     "output_type": "display_data"
    },
    {
     "data": {
      "application/vnd.jupyter.widget-view+json": {
       "model_id": "98b93b889da74b95acef09c45f64fd5c",
       "version_major": 2,
       "version_minor": 0
      },
      "text/plain": [
       "Downloading (…)55de9125/config.json:   0%|          | 0.00/612 [00:00<?, ?B/s]"
      ]
     },
     "metadata": {},
     "output_type": "display_data"
    },
    {
     "data": {
      "application/vnd.jupyter.widget-view+json": {
       "model_id": "6c6df752dcb84016b0ecf3ecb21234d4",
       "version_major": 2,
       "version_minor": 0
      },
      "text/plain": [
       "Downloading (…)ce_transformers.json:   0%|          | 0.00/116 [00:00<?, ?B/s]"
      ]
     },
     "metadata": {},
     "output_type": "display_data"
    },
    {
     "data": {
      "application/vnd.jupyter.widget-view+json": {
       "model_id": "813f478fe66a482e9cf815c0368232a2",
       "version_major": 2,
       "version_minor": 0
      },
      "text/plain": [
       "Downloading (…)125/data_config.json:   0%|          | 0.00/39.3k [00:00<?, ?B/s]"
      ]
     },
     "metadata": {},
     "output_type": "display_data"
    },
    {
     "data": {
      "application/vnd.jupyter.widget-view+json": {
       "model_id": "9491cccbe382474394695de0b7b4b43c",
       "version_major": 2,
       "version_minor": 0
      },
      "text/plain": [
       "Downloading pytorch_model.bin:   0%|          | 0.00/90.9M [00:00<?, ?B/s]"
      ]
     },
     "metadata": {},
     "output_type": "display_data"
    },
    {
     "data": {
      "application/vnd.jupyter.widget-view+json": {
       "model_id": "85326ed7612a4b19a8341cb69c1016a2",
       "version_major": 2,
       "version_minor": 0
      },
      "text/plain": [
       "Downloading (…)nce_bert_config.json:   0%|          | 0.00/53.0 [00:00<?, ?B/s]"
      ]
     },
     "metadata": {},
     "output_type": "display_data"
    },
    {
     "data": {
      "application/vnd.jupyter.widget-view+json": {
       "model_id": "b1c48864ccf3404bbdb456ff8643720f",
       "version_major": 2,
       "version_minor": 0
      },
      "text/plain": [
       "Downloading (…)cial_tokens_map.json:   0%|          | 0.00/112 [00:00<?, ?B/s]"
      ]
     },
     "metadata": {},
     "output_type": "display_data"
    },
    {
     "data": {
      "application/vnd.jupyter.widget-view+json": {
       "model_id": "85b11f016d784322b08d773bfa68ed0a",
       "version_major": 2,
       "version_minor": 0
      },
      "text/plain": [
       "Downloading (…)e9125/tokenizer.json:   0%|          | 0.00/466k [00:00<?, ?B/s]"
      ]
     },
     "metadata": {},
     "output_type": "display_data"
    },
    {
     "data": {
      "application/vnd.jupyter.widget-view+json": {
       "model_id": "8790f42e576740919e975c3777a3af8a",
       "version_major": 2,
       "version_minor": 0
      },
      "text/plain": [
       "Downloading (…)okenizer_config.json:   0%|          | 0.00/350 [00:00<?, ?B/s]"
      ]
     },
     "metadata": {},
     "output_type": "display_data"
    },
    {
     "data": {
      "application/vnd.jupyter.widget-view+json": {
       "model_id": "a035aee58805402c8cf413c8e49d7fdd",
       "version_major": 2,
       "version_minor": 0
      },
      "text/plain": [
       "Downloading (…)9125/train_script.py:   0%|          | 0.00/13.2k [00:00<?, ?B/s]"
      ]
     },
     "metadata": {},
     "output_type": "display_data"
    },
    {
     "data": {
      "application/vnd.jupyter.widget-view+json": {
       "model_id": "efcda2013b56461c9d8f74e9ca90aacb",
       "version_major": 2,
       "version_minor": 0
      },
      "text/plain": [
       "Downloading (…)7e55de9125/vocab.txt:   0%|          | 0.00/232k [00:00<?, ?B/s]"
      ]
     },
     "metadata": {},
     "output_type": "display_data"
    },
    {
     "data": {
      "application/vnd.jupyter.widget-view+json": {
       "model_id": "ba0000727ffc483db9fcd88916c68575",
       "version_major": 2,
       "version_minor": 0
      },
      "text/plain": [
       "Downloading (…)5de9125/modules.json:   0%|          | 0.00/349 [00:00<?, ?B/s]"
      ]
     },
     "metadata": {},
     "output_type": "display_data"
    }
   ],
   "source": [
    "class MiniLML6V2EmbeddingFunctionLangchain(langchain.embeddings.openai.Embeddings):\n",
    "    MODEL = SentenceTransformer(\"all-MiniLM-L6-v2\")\n",
    "\n",
    "    def embed_documents(self, texts):\n",
    "        return MiniLML6V2EmbeddingFunctionLangchain.MODEL.encode(texts).tolist()\n",
    "\n",
    "    def embed_query(self, query):\n",
    "        return MiniLML6V2EmbeddingFunctionLangchain.MODEL.encode([query]).tolist()[0]"
   ]
  },
  {
   "cell_type": "markdown",
   "metadata": {},
   "source": [
    "Texts are converted into embeddings (word vector space) that captures language semantics."
   ]
  },
  {
   "cell_type": "code",
   "execution_count": 10,
   "metadata": {},
   "outputs": [
    {
     "data": {
      "text/plain": [
       "[0.0028318187687546015,\n",
       " 0.03901984915137291,\n",
       " 0.08902653306722641,\n",
       " 0.07300358265638351,\n",
       " -0.02613072283565998,\n",
       " -0.0733506977558136,\n",
       " 0.05532264709472656,\n",
       " -0.010837370529770851,\n",
       " -0.08899176865816116,\n",
       " 0.017466692253947258,\n",
       " -0.0024859572295099497,\n",
       " -0.005507407709956169,\n",
       " -0.025227883830666542,\n",
       " -0.02106671966612339,\n",
       " 0.07685411721467972,\n",
       " -0.034460268914699554,\n",
       " 0.09116453677415848,\n",
       " -0.09042548388242722,\n",
       " -0.1149013340473175,\n",
       " 0.04448229447007179,\n",
       " -0.0616748109459877,\n",
       " 0.028660694137215614,\n",
       " 0.03157806769013405,\n",
       " 0.06953569501638412,\n",
       " -0.05539025366306305,\n",
       " -0.05994395166635513,\n",
       " 0.030942391604185104,\n",
       " 0.031256284564733505,\n",
       " 0.037836797535419464,\n",
       " -0.08306162059307098,\n",
       " -0.05675555020570755,\n",
       " 0.06849905848503113,\n",
       " -0.014742941595613956,\n",
       " -0.003990241792052984,\n",
       " -0.025798775255680084,\n",
       " 0.05499803274869919,\n",
       " -0.02753622829914093,\n",
       " -0.11885888874530792,\n",
       " 0.0049217501655220985,\n",
       " -0.014162867330014706,\n",
       " 0.010688817128539085,\n",
       " -0.05209549516439438,\n",
       " -0.018154142424464226,\n",
       " -0.035904575139284134,\n",
       " 0.08272892981767654,\n",
       " -0.06927017867565155,\n",
       " 0.018587538972496986,\n",
       " 0.07059455662965775,\n",
       " 0.1334991455078125,\n",
       " 0.004277267958968878,\n",
       " -0.09788133949041367,\n",
       " -0.051397599279880524,\n",
       " -0.04960772395133972,\n",
       " 0.037112895399332047,\n",
       " 0.07331676036119461,\n",
       " 0.023088231682777405,\n",
       " -0.0702080950140953,\n",
       " -0.0024345426354557276,\n",
       " 0.052961792796850204,\n",
       " 0.00035710394149646163,\n",
       " 0.006549027282744646,\n",
       " 0.03630964830517769,\n",
       " -0.08037423342466354,\n",
       " 0.024263586848974228,\n",
       " 0.06287405639886856,\n",
       " -0.03334175422787666,\n",
       " -0.06978727877140045,\n",
       " -0.058289192616939545,\n",
       " -0.041736096143722534,\n",
       " -0.061421915888786316,\n",
       " -0.04326864704489708,\n",
       " -0.02709302119910717,\n",
       " 0.010173831135034561,\n",
       " 0.03219170123338699,\n",
       " -0.029222561046481133,\n",
       " -0.0755876675248146,\n",
       " 0.023505914956331253,\n",
       " -0.026513580232858658,\n",
       " 0.03624469414353371,\n",
       " 0.029986778274178505,\n",
       " 0.07282791286706924,\n",
       " -0.0883781686425209,\n",
       " -0.0016873124986886978,\n",
       " 0.033014871180057526,\n",
       " -0.03984059765934944,\n",
       " -0.03971579670906067,\n",
       " 0.04856450855731964,\n",
       " 0.08272285759449005,\n",
       " -0.019443610683083534,\n",
       " 0.003909565508365631,\n",
       " -0.08687946945428848,\n",
       " 0.07673833519220352,\n",
       " 0.022171705961227417,\n",
       " -0.018559131771326065,\n",
       " 0.004651074763387442,\n",
       " -0.013400344178080559,\n",
       " 0.13400694727897644,\n",
       " -0.015400062315165997,\n",
       " -0.08690591901540756,\n",
       " 0.15176765620708466,\n",
       " 0.04625238850712776,\n",
       " 0.09647276252508163,\n",
       " 0.017523664981126785,\n",
       " -0.02476341277360916,\n",
       " -0.008924567140638828,\n",
       " 0.04010798782110214,\n",
       " -0.08408855646848679,\n",
       " 0.05091216787695885,\n",
       " -0.02606607973575592,\n",
       " -0.054667044430971146,\n",
       " 0.01761288195848465,\n",
       " -0.052185822278261185,\n",
       " -0.026739774271845818,\n",
       " -0.0031855714041739702,\n",
       " 0.0947519838809967,\n",
       " -0.005233407486230135,\n",
       " 0.030240075662732124,\n",
       " 0.07256784290075302,\n",
       " 0.03675439581274986,\n",
       " 0.01791227236390114,\n",
       " 0.022219058126211166,\n",
       " 0.0009529230883345008,\n",
       " -0.0008247486548498273,\n",
       " 0.013563129119575024,\n",
       " -0.04236851632595062,\n",
       " 0.08177018165588379,\n",
       " 0.058353129774332047,\n",
       " -5.13907248801494e-33,\n",
       " 0.11550702154636383,\n",
       " -0.030674617737531662,\n",
       " 0.06145915761590004,\n",
       " 0.11557550728321075,\n",
       " -0.07381568104028702,\n",
       " -0.026236696168780327,\n",
       " -0.019749345257878304,\n",
       " -0.06364625692367554,\n",
       " 0.05638492479920387,\n",
       " 0.0005971317295916378,\n",
       " 0.03583179786801338,\n",
       " 4.448948675417341e-05,\n",
       " -0.0028919207397848368,\n",
       " 0.0029721783939749002,\n",
       " -0.021511757746338844,\n",
       " -0.001196951838210225,\n",
       " -0.060077641159296036,\n",
       " 0.027346964925527573,\n",
       " -0.03809601068496704,\n",
       " 0.116745226085186,\n",
       " -0.05701444298028946,\n",
       " -0.06327551603317261,\n",
       " -0.04032651707530022,\n",
       " 0.05869581177830696,\n",
       " 0.08005484193563461,\n",
       " -0.022895842790603638,\n",
       " -0.01945645362138748,\n",
       " -0.09779904037714005,\n",
       " 0.007804387249052525,\n",
       " -0.002376300049945712,\n",
       " -0.02120317332446575,\n",
       " -0.013253819197416306,\n",
       " 0.040729157626628876,\n",
       " -0.019607601687312126,\n",
       " 0.042314495891332626,\n",
       " 0.002097204327583313,\n",
       " -0.00021152436966076493,\n",
       " -0.030649110674858093,\n",
       " -0.012259108945727348,\n",
       " 0.03242802992463112,\n",
       " -0.012206078507006168,\n",
       " 0.020470600575208664,\n",
       " 0.08190139383077621,\n",
       " -0.04174003005027771,\n",
       " -0.014009314589202404,\n",
       " -0.05109101161360741,\n",
       " -0.03026198036968708,\n",
       " 0.04317551478743553,\n",
       " -0.018543925136327744,\n",
       " -0.03419624641537666,\n",
       " -0.06688771396875381,\n",
       " -0.00232126796618104,\n",
       " -0.07500305771827698,\n",
       " 0.05642550811171532,\n",
       " -0.034114766865968704,\n",
       " -0.023861128836870193,\n",
       " -0.02135113999247551,\n",
       " -0.0339701883494854,\n",
       " 0.03577126935124397,\n",
       " 0.07576165348291397,\n",
       " 0.04509931802749634,\n",
       " 0.11627279222011566,\n",
       " -0.02795160934329033,\n",
       " -0.055837128311395645,\n",
       " -0.09121944010257721,\n",
       " -0.05839095264673233,\n",
       " -0.01408789400011301,\n",
       " -0.005521948449313641,\n",
       " 0.10802736133337021,\n",
       " -0.09027107059955597,\n",
       " 0.011444746516644955,\n",
       " -0.026289349421858788,\n",
       " 0.018809739500284195,\n",
       " 0.06491302698850632,\n",
       " 0.03000090830028057,\n",
       " 0.056177787482738495,\n",
       " -0.02884821593761444,\n",
       " -0.02794693410396576,\n",
       " -0.003956765402108431,\n",
       " -0.06754965335130692,\n",
       " 0.010181264020502567,\n",
       " 0.09962327778339386,\n",
       " -0.03427121043205261,\n",
       " -0.01497170701622963,\n",
       " -0.0011015257332473993,\n",
       " 0.008061571046710014,\n",
       " -0.042337797582149506,\n",
       " -0.07721646875143051,\n",
       " -0.01583460532128811,\n",
       " 0.01727169193327427,\n",
       " -0.041657835245132446,\n",
       " 0.04117494449019432,\n",
       " 0.04237302020192146,\n",
       " -0.02085775136947632,\n",
       " -0.06901553273200989,\n",
       " 3.4367314873876884e-33,\n",
       " 0.11316528171300888,\n",
       " 0.02540489286184311,\n",
       " -0.07342764735221863,\n",
       " -0.0321468822658062,\n",
       " -0.09098979085683823,\n",
       " -0.038620371371507645,\n",
       " -0.023044748231768608,\n",
       " 0.09124589711427689,\n",
       " -0.06935874372720718,\n",
       " 0.011373398825526237,\n",
       " 0.08172845840454102,\n",
       " 0.01859932392835617,\n",
       " 0.057492226362228394,\n",
       " 0.025420496240258217,\n",
       " 0.030654385685920715,\n",
       " -0.024127205833792686,\n",
       " 0.12286820262670517,\n",
       " 0.03247511014342308,\n",
       " -0.0031591090373694897,\n",
       " -0.030471565201878548,\n",
       " -0.08993630856275558,\n",
       " 0.09590516984462738,\n",
       " -0.055950067937374115,\n",
       " 0.031686704605817795,\n",
       " -0.015762723982334137,\n",
       " -0.01197817549109459,\n",
       " 0.007908111438155174,\n",
       " 0.07967673987150192,\n",
       " -0.08123429864645004,\n",
       " -0.0316658653318882,\n",
       " -0.0019684855360537767,\n",
       " -0.012171490117907524,\n",
       " 0.0025560958310961723,\n",
       " 0.0975072830915451,\n",
       " 0.03532293438911438,\n",
       " 0.01848279871046543,\n",
       " 0.010996542870998383,\n",
       " -0.06473957002162933,\n",
       " -0.022521456703543663,\n",
       " -0.06623458862304688,\n",
       " -0.07650109380483627,\n",
       " 0.0382775142788887,\n",
       " -0.003876345930621028,\n",
       " 0.08289691805839539,\n",
       " 0.06757494807243347,\n",
       " -0.0425722599029541,\n",
       " 0.01659395359456539,\n",
       " 0.002787717618048191,\n",
       " -0.011441527865827084,\n",
       " 0.034874144941568375,\n",
       " -0.01239963248372078,\n",
       " -0.04220309108495712,\n",
       " 0.0038890631403774023,\n",
       " 0.021738339215517044,\n",
       " 0.006889855954796076,\n",
       " 0.03493020310997963,\n",
       " -0.020002752542495728,\n",
       " -0.025755368173122406,\n",
       " 0.014821411110460758,\n",
       " -0.010815942659974098,\n",
       " 0.0195015799254179,\n",
       " 0.039859186857938766,\n",
       " 0.02944285422563553,\n",
       " 0.040903639048337936,\n",
       " 0.058080799877643585,\n",
       " 0.0028866801876574755,\n",
       " -0.026477474719285965,\n",
       " -0.0009972400730475783,\n",
       " -0.030898457393050194,\n",
       " -0.045071475207805634,\n",
       " -0.03278505057096481,\n",
       " -0.029844079166650772,\n",
       " 0.04852139204740524,\n",
       " -0.0281870998442173,\n",
       " 0.011633348651230335,\n",
       " 0.02260548807680607,\n",
       " 0.02848798595368862,\n",
       " -0.01839528977870941,\n",
       " -0.01187440287321806,\n",
       " -0.0067908549681305885,\n",
       " -0.03264092653989792,\n",
       " 0.028347615152597427,\n",
       " 0.03155011683702469,\n",
       " -0.09571829438209534,\n",
       " -0.08726335316896439,\n",
       " -0.07199984043836594,\n",
       " 0.07798733562231064,\n",
       " 0.05705719813704491,\n",
       " 0.05060206726193428,\n",
       " 0.022303173318505287,\n",
       " 0.034831881523132324,\n",
       " 0.033866073936223984,\n",
       " -0.00831417366862297,\n",
       " 0.008211836218833923,\n",
       " 0.009963858872652054,\n",
       " -1.5938864450504298e-08,\n",
       " 0.03007839433848858,\n",
       " 0.0010847015073522925,\n",
       " 0.014000088907778263,\n",
       " 0.06229298189282417,\n",
       " 0.012357356958091259,\n",
       " 0.033962443470954895,\n",
       " -0.07851563394069672,\n",
       " -0.02404303103685379,\n",
       " -0.04349494352936745,\n",
       " -0.03380243107676506,\n",
       " 0.041502684354782104,\n",
       " 0.027155060321092606,\n",
       " -0.09739241003990173,\n",
       " -0.09348844736814499,\n",
       " 0.019801825284957886,\n",
       " 0.012810311280190945,\n",
       " 0.0731811597943306,\n",
       " 0.060675349086523056,\n",
       " -0.07479254901409149,\n",
       " -0.07950825989246368,\n",
       " 0.044146038591861725,\n",
       " 0.0012096560094505548,\n",
       " 0.0036767679266631603,\n",
       " 0.07164862006902695,\n",
       " -0.013460170477628708,\n",
       " 0.009534694254398346,\n",
       " 0.01070328801870346,\n",
       " -0.012535796500742435,\n",
       " 0.007935142144560814,\n",
       " 0.0840124562382698,\n",
       " 0.02898751199245453,\n",
       " 0.15381650626659393,\n",
       " -0.016854841262102127,\n",
       " -0.0005479181418195367,\n",
       " -0.009324933402240276,\n",
       " -0.06523342430591583,\n",
       " 0.026411736384034157,\n",
       " 0.009096615947782993,\n",
       " 0.05216202512383461,\n",
       " 0.03818837180733681,\n",
       " -0.022486837580800056,\n",
       " 0.011786962859332561,\n",
       " -0.06881478428840637,\n",
       " -0.05156567692756653,\n",
       " 0.03500805050134659,\n",
       " -0.02143826335668564,\n",
       " 0.07323145121335983,\n",
       " -0.10805734992027283,\n",
       " -0.0021730365697294474,\n",
       " -0.0060391719453036785,\n",
       " -0.05299632251262665,\n",
       " 0.023780953139066696,\n",
       " 0.07356167584657669,\n",
       " 0.0396261028945446,\n",
       " 0.046059899032115936,\n",
       " 0.07205004245042801,\n",
       " -0.02221452072262764,\n",
       " 0.0247037373483181,\n",
       " -0.05445583537220955,\n",
       " 0.01865576207637787,\n",
       " -0.01261797547340393,\n",
       " -0.02339571714401245,\n",
       " -0.04133458435535431,\n",
       " -0.009916705079376698]"
      ]
     },
     "execution_count": 10,
     "metadata": {},
     "output_type": "execute_result"
    }
   ],
   "source": [
    "embedding = MiniLML6V2EmbeddingFunctionLangchain()\n",
    "embedding.embed_query(\"Hello how are you?\")"
   ]
  },
  {
   "cell_type": "code",
   "execution_count": 11,
   "metadata": {},
   "outputs": [],
   "source": [
    "db = FAISS.from_documents(texts, MiniLML6V2EmbeddingFunctionLangchain())"
   ]
  },
  {
   "cell_type": "code",
   "execution_count": 12,
   "metadata": {},
   "outputs": [
    {
     "data": {
      "text/plain": [
       "[Document(page_content='1.4. For the avoidance  of doubt,  in the event of the termination, suspension  or \\ncancellation  of the Campaign,  the participants  or the  winners  shall not be entitled to \\nclaim compensation from the Organiser for any losses or damages suffered or incurred \\nby the participants or the winners as a direct or indirect result of the act of termination, \\nsuspension or cancellation.  \\n \\n1.5. The Campaign consists of:  \\na. Happy Hunt Grand Lucky Draw; and  \\nb. Happy Hunt Monthly Giveaway.  \\n \\n \\n2. Campaign Period  \\n2.1. The Campaign will  be held from 1 June  2023  to 31 December 2023.   \\n \\n2.2. The Organiser reserves the right to vary, postpone or re-schedule the dates of the \\nCampaign or extend the Campaign Period at its sole discretion.  \\n \\n3. Eligibility  \\n3.1 The Campaign  is open  to: \\na. New registrants of UEM Sunrise’s properties;  \\nb. New purchasers of UEM Sunrise’s properties;  \\nc. Aged 18 and  above; and  \\nd. Followe rs of UEM Sunrise official Facebook and Instagram.', metadata={'source': 'Happy-Hunt-T-Cs-Final-1.pdf', 'page': 0}),\n",
       " Document(page_content='UEM  Sunrise  ‘Happy  Hunt’ Campaign  \\n \\n1. Introduction  \\n1.1. These terms and conditions (“ Terms and Conditions ”) shall govern the UEM \\nSunrise ‘Happy Hunt’ Campaign (“Campaign ”) organised by UEM Sunrise Berhad \\n(“Organiser ”). \\n \\n1.2. The Organiser reserves the right at any time to  change, amend or delete the Terms \\nand Conditions and other rules and regulations including changing of the mechanism \\nfor the Campaign at its sole discretion.  \\n \\n1.3. The Organiser may terminate  or suspend the Campaign at any  time at its absolute \\ndiscretio n, in which case,  the Organiser may elect not to award any giveaway(s). Such \\ntermination or suspension will not give rise to any claim by the participants. If the \\nCampaign is resumed by the Organiser, the participants shall abide by the Organiser’s \\ndecisio n regarding the resumption of the Campaign and disposition of the giveaways. \\nThe Campaign will be held during the Campaign Period as defined below.', metadata={'source': 'Happy-Hunt-T-Cs-Final-1.pdf', 'page': 0}),\n",
       " Document(page_content='related to this Campaign, from any claim(s), prosecution ; costs,  damages, fine, \\npenalty,  loss or liability  whether  known or  unknown  at the present time, of any nature', metadata={'source': 'Happy-Hunt-T-Cs-Final-1.pdf', 'page': 3}),\n",
       " Document(page_content='4.2 Happy Hunt Monthly Giveaway mechanics:  \\na. The Campaign  period  is from 1 June 2023 to 31 December 2023 . \\nb. Participants must have registered the following to qualify as one (1) \\n“Registration”  \\ni. Name  \\nii. Contact Number  \\niii. Email Address  \\nc. Participants must physically visit the monthly highlighted locations i.e., UEM \\nSunrise Property Galleries, Roadshows, or Showcase etc.  \\nd. Participants will be entitled to one (1) Monthly Lucky Draw entry for one (1) \\nRegistration.  \\ne. Winner  selection:  \\ni. Participants  who fulfil the above  criteria  will be eligible  to win  a gadget worth \\nup to RM200.00 or shopping vouchers worth up to RM50.00.  \\nii. A total of ten ( 10) winners  will be drawn at random  per month during  the \\nCampaign  period  and any decision  made  by the Organiser shall be final. \\niii. Winners  will be contacted  to provide  their full name,  I/C number,  mobile  \\nnumber,  email  address  & mailing  address  (“Personal  Details”)  for Campaign', metadata={'source': 'Happy-Hunt-T-Cs-Final-1.pdf', 'page': 2})]"
      ]
     },
     "execution_count": 12,
     "metadata": {},
     "output_type": "execute_result"
    }
   ],
   "source": [
    "db.similarity_search(\"What is the campaign period?\")"
   ]
  },
  {
   "cell_type": "markdown",
   "metadata": {},
   "source": [
    "## 3. Prompting"
   ]
  },
  {
   "cell_type": "code",
   "execution_count": 13,
   "metadata": {},
   "outputs": [],
   "source": [
    "def make_prompt(context, question):\n",
    "    return (\n",
    "        f\"Answer the question using the context provided.\"\n",
    "        + f\"Context:\\n\\n\"\n",
    "        + f\"{context}:\\n\\n\"\n",
    "        + f'If the question is unanswerable, say \"unanswerable\".'\n",
    "        + f\"Question: {question}\"\n",
    "    )\n",
    "\n"
   ]
  },
  {
   "cell_type": "code",
   "execution_count": 14,
   "metadata": {},
   "outputs": [],
   "source": [
    "question = \"What is the duration of the Campaign?\"\n",
    "docs = db.similarity_search(question, k=5)\n",
    "context = \" \".join([doc.page_content for doc in docs])\n",
    "prompt = make_prompt(context, question)"
   ]
  },
  {
   "cell_type": "markdown",
   "metadata": {},
   "source": [
    "## 4. Generation"
   ]
  },
  {
   "cell_type": "code",
   "execution_count": 15,
   "metadata": {},
   "outputs": [],
   "source": [
    "def access_token():\n",
    "    url = \"https://iam.cloud.ibm.com/identity/token\"\n",
    "    headers = {\"Content-Type\": \"application/x-www-form-urlencoded\"}\n",
    "    data = f\"apikey={API_KEY}&grant_type=urn:ibm:params:oauth:grant-type:apikey\"\n",
    "    response = requests.post(url, headers=headers, data=data)\n",
    "    iam_token = response.json()[\"access_token\"]\n",
    "    return iam_token\n",
    "\n",
    "# access_token()"
   ]
  },
  {
   "cell_type": "code",
   "execution_count": 16,
   "metadata": {},
   "outputs": [
    {
     "data": {
      "text/plain": [
       "'from 1 June 2023 to 31 December 2023'"
      ]
     },
     "execution_count": 16,
     "metadata": {},
     "output_type": "execute_result"
    }
   ],
   "source": [
    "url = \"https://us-south.ml.cloud.ibm.com/ml/v1-beta/generation/text?version=2023-05-29\"\n",
    "headers = {\n",
    "    \"Content-Type\": \"application/json\",\n",
    "    \"Accept\": \"application/json\",\n",
    "    \"Authorization\": f\"Bearer {access_token()}\",\n",
    "}\n",
    "payload = {\n",
    "    \"model_id\": \"google/flan-ul2\",\n",
    "    \"input\": prompt,\n",
    "    \"parameters\": {\n",
    "        \"decoding_method\": \"sample\",\n",
    "        \"max_new_tokens\": 100,\n",
    "        \"min_new_tokens\": 1,\n",
    "        \"random_seed\": 12345,\n",
    "        \"stop_sequences\": [],\n",
    "        \"temperature\": 0.0,\n",
    "        \"top_k\": 50,\n",
    "        \"top_p\": 1,\n",
    "        \"repetition_penalty\": 1,\n",
    "    },\n",
    "    \"project_id\": PROJECT_ID,\n",
    "}\n",
    "\n",
    "response = requests.post(url, headers=headers, json=payload)\n",
    "response.json()[\"results\"][0][\"generated_text\"]"
   ]
  },
  {
   "cell_type": "code",
   "execution_count": null,
   "metadata": {},
   "outputs": [],
   "source": []
  }
 ],
 "metadata": {
  "kernelspec": {
   "display_name": "Python 3.10",
   "language": "python",
   "name": "python3"
  },
  "language_info": {
   "codemirror_mode": {
    "name": "ipython",
    "version": 3
   },
   "file_extension": ".py",
   "mimetype": "text/x-python",
   "name": "python",
   "nbconvert_exporter": "python",
   "pygments_lexer": "ipython3",
   "version": "3.11.4"
  }
 },
 "nbformat": 4,
 "nbformat_minor": 2
}
