{
 "cells": [
  {
   "cell_type": "code",
   "execution_count": null,
   "metadata": {},
   "outputs": [],
   "source": [
    "import requests"
   ]
  },
  {
   "cell_type": "code",
   "execution_count": null,
   "metadata": {},
   "outputs": [],
   "source": [
    "api_key = \"xxx\"\n",
    "url = \"https://iam.cloud.ibm.com/identity/token\"\n",
    "headers = {\"Content-Type\": \"application/x-www-form-urlencoded\"}\n",
    "data = f\"apikey={api_key}&grant_type=urn:ibm:params:oauth:grant-type:apikey\"\n",
    "response = requests.post(url, headers=headers, data=data)\n",
    "iam_token = response.json()[\"access_token\"]\n",
    "iam_token"
   ]
  },
  {
   "cell_type": "code",
   "execution_count": null,
   "metadata": {},
   "outputs": [],
   "source": [
    "prompt = \"Hello, how are you?\"\n",
    "url = \"https://us-south.ml.cloud.ibm.com/ml/v1-beta/generation/text?version=2023-05-29\"\n",
    "headers = {\n",
    "    \"Content-Type\": \"application/json\",\n",
    "    \"Authorization\": f\"Bearer {iam_token}\"\n",
    "}\n",
    "payload = {\n",
    "    \"model_id\": \"google/flan-ul2\",\n",
    "    \"input\": prompt,\n",
    "    \"parameters\": {\n",
    "        \"decoding_method\": \"sample\",\n",
    "        \"max_new_tokens\": 50,\n",
    "        \"min_new_tokens\": 1,\n",
    "        \"random_seed\": 12345,\n",
    "        \"stop_sequences\": [],\n",
    "        \"temperature\": 0,\n",
    "        \"top_k\": 50,\n",
    "        \"top_p\": 1,\n",
    "        \"repetition_penalty\": 1.0,\n",
    "    },\n",
    "    \"project_id\": \"3dce5aff-e4a0-48fc-9210-445d52ef0c34\",\n",
    "}\n",
    "\n",
    "response = requests.post(url, headers=headers, json=payload)\n",
    "response.json()[\"results\"][0][\"generated_text\"]"
   ]
  }
 ],
 "metadata": {
  "kernelspec": {
   "display_name": "chat",
   "language": "python",
   "name": "python3"
  },
  "language_info": {
   "codemirror_mode": {
    "name": "ipython",
    "version": 3
   },
   "file_extension": ".py",
   "mimetype": "text/x-python",
   "name": "python",
   "nbconvert_exporter": "python",
   "pygments_lexer": "ipython3",
   "version": "3.11.4"
  },
  "orig_nbformat": 4
 },
 "nbformat": 4,
 "nbformat_minor": 2
}
