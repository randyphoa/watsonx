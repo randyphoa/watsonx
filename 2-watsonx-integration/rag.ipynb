{
 "cells": [
  {
   "cell_type": "code",
   "execution_count": null,
   "metadata": {},
   "outputs": [],
   "source": [
    "# https://smart.com.ph/About/docs/corporate-governance/conflictofinterestpolicy.pdf"
   ]
  },
  {
   "cell_type": "code",
   "execution_count": 3,
   "metadata": {},
   "outputs": [],
   "source": [
    "import requests\n",
    "import langchain\n",
    "\n",
    "from langchain.vectorstores import FAISS\n",
    "from langchain.text_splitter import RecursiveCharacterTextSplitter\n",
    "from sentence_transformers import SentenceTransformer\n",
    "from langchain.document_loaders import PyPDFLoader\n",
    "\n",
    "\n",
    "class MiniLML6V2EmbeddingFunctionLangchain(langchain.embeddings.openai.Embeddings):\n",
    "    MODEL = SentenceTransformer(\"all-MiniLM-L6-v2\")\n",
    "\n",
    "    def embed_documents(self, texts):\n",
    "        return MiniLML6V2EmbeddingFunctionLangchain.MODEL.encode(texts).tolist()\n",
    "\n",
    "    def embed_query(self, query):\n",
    "        return MiniLML6V2EmbeddingFunctionLangchain.MODEL.encode([query]).tolist()[0]\n",
    "\n",
    "\n",
    "api_key = \"xxx\"\n",
    "url = \"https://iam.cloud.ibm.com/identity/token\"\n",
    "headers = {\"Content-Type\": \"application/x-www-form-urlencoded\"}\n",
    "data = f\"apikey={api_key}&grant_type=urn:ibm:params:oauth:grant-type:apikey\"\n",
    "response = requests.post(url, headers=headers, data=data)\n",
    "iam_token = response.json()[\"access_token\"]\n",
    "\n",
    "model_name = \"google/flan-t5-xxl\"\n",
    "model_parameters = {\n",
    "    \"decoding_method\": \"sample\",\n",
    "    \"max_new_tokens\": 300,\n",
    "    \"min_new_tokens\": 1,\n",
    "    \"random_seed\": 12345,\n",
    "    \"stop_sequences\": [],\n",
    "    \"temperature\": 0.0,\n",
    "    \"top_k\": 50,\n",
    "    \"top_p\": 1,\n",
    "    \"repetition_penalty\": 1,\n",
    "}\n",
    "project_id = \"0353fa90-88c0-44d2-b6e7-ab143db3f01d\"\n",
    "url = \"https://us-south.ml.cloud.ibm.com/ml/v1-beta/generation/text?version=2023-05-29\"\n",
    "headers = {\n",
    "    \"Content-Type\": \"application/json\",\n",
    "    \"Accept\": \"application/json\",\n",
    "    \"Authorization\": f\"Bearer {iam_token}\",\n",
    "}\n",
    "payload = {\n",
    "    \"model_id\": model_name,\n",
    "    \"parameters\": model_parameters,\n",
    "    \"project_id\": project_id,\n",
    "}\n",
    "\n",
    "\n",
    "def ask_question(question, db, num_docs):\n",
    "    context = \" \".join(\n",
    "        [x.page_content for x in db.similarity_search(question, k=num_docs)]\n",
    "    )\n",
    "\n",
    "    prompt = f\"\"\"Use the following pieces of information to answer the user's question.\n",
    "    If you don't know the answer, just say that you don't know, don't try to make up an answer.\n",
    "    Context: {context}\n",
    "\n",
    "    Question: {question}\n",
    "\n",
    "    Only return the helpful answer below and nothing else.\n",
    "    Helpful answer:\n",
    "    \"\"\"\n",
    "    payload.update({\"input\": prompt})\n",
    "    r = requests.post(url, headers=headers, json=payload)\n",
    "    generated_text = r.json()[\"results\"][0][\"generated_text\"]\n",
    "    return context, generated_text"
   ]
  },
  {
   "cell_type": "code",
   "execution_count": 2,
   "metadata": {},
   "outputs": [],
   "source": [
    "loader = PyPDFLoader(\"data/conflictofinterestpolicy.pdf\")\n",
    "text_splitter = RecursiveCharacterTextSplitter(chunk_size=1000, chunk_overlap=100)\n",
    "docs = text_splitter.split_documents(loader.load())\n",
    "db = FAISS.from_documents(docs, MiniLML6V2EmbeddingFunctionLangchain())\n",
    "db.save_local(\"watsonx/db\")"
   ]
  },
  {
   "cell_type": "code",
   "execution_count": 4,
   "metadata": {},
   "outputs": [],
   "source": [
    "db = FAISS.load_local(\"watsonx/db\", MiniLML6V2EmbeddingFunctionLangchain())"
   ]
  },
  {
   "cell_type": "code",
   "execution_count": 5,
   "metadata": {},
   "outputs": [
    {
     "name": "stdout",
     "output_type": "stream",
     "text": [
      "Answer:\n",
      "Conflict of Interest – occurs when the private interest of a Director, Employee, Consultant and/or his Affiliate interferes or appears to interfere in any way with the interest of SMART and/or Group\n"
     ]
    }
   ],
   "source": [
    "question = \"when does a Conflict of Interest occurs?\"\n",
    "context, answer = ask_question(question=question, db=db, num_docs=3)\n",
    "# print(\"Context:\")\n",
    "# print(context)\n",
    "# print()\n",
    "# print()\n",
    "# print(\"-\" * 100)\n",
    "print(\"Answer:\")\n",
    "print(answer)"
   ]
  }
 ],
 "metadata": {
  "kernelspec": {
   "display_name": "chat",
   "language": "python",
   "name": "python3"
  },
  "language_info": {
   "codemirror_mode": {
    "name": "ipython",
    "version": 3
   },
   "file_extension": ".py",
   "mimetype": "text/x-python",
   "name": "python",
   "nbconvert_exporter": "python",
   "pygments_lexer": "ipython3",
   "version": "3.11.4"
  },
  "orig_nbformat": 4
 },
 "nbformat": 4,
 "nbformat_minor": 2
}
